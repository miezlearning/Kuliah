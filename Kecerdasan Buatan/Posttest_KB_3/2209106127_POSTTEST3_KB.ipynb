{
  "nbformat": 4,
  "nbformat_minor": 0,
  "metadata": {
    "colab": {
      "provenance": [],
      "gpuType": "T4"
    },
    "kernelspec": {
      "name": "python3",
      "display_name": "Python 3"
    },
    "language_info": {
      "name": "python"
    },
    "accelerator": "GPU"
  },
  "cells": [
    {
      "cell_type": "markdown",
      "source": [
        "# Bagian 1\n"
      ],
      "metadata": {
        "id": "tOvBYrQLncyf"
      }
    },
    {
      "cell_type": "markdown",
      "source": [
        "## Import Library\n",
        "\n",
        "---\n",
        "\n"
      ],
      "metadata": {
        "id": "wUsPpft3oCpk"
      }
    },
    {
      "cell_type": "code",
      "execution_count": null,
      "metadata": {
        "id": "HnpdEipO-sK4"
      },
      "outputs": [],
      "source": [
        "import pandas as pd\n",
        "from sklearn.model_selection import train_test_split\n",
        "from sklearn.preprocessing import StandardScaler, LabelEncoder,  MinMaxScaler\n",
        "import matplotlib.pyplot as plt\n",
        "import seaborn as sns\n",
        "import numpy as np\n"
      ]
    },
    {
      "cell_type": "markdown",
      "source": [
        "## Baca Data File\n",
        "\n",
        "---\n",
        "\n"
      ],
      "metadata": {
        "id": "kKJOEAaanlv8"
      }
    },
    {
      "cell_type": "code",
      "source": [
        "df = pd.read_csv(\"calonpembelimobil.csv\")\n",
        "df"
      ],
      "metadata": {
        "colab": {
          "base_uri": "https://localhost:8080/",
          "height": 423
        },
        "id": "0FBTvLRXnoPZ",
        "outputId": "4662e6d3-2e9f-4224-ce57-e7b861910ab9"
      },
      "execution_count": null,
      "outputs": [
        {
          "output_type": "execute_result",
          "data": {
            "text/plain": [
              "       ID  Usia  Status  Kelamin  Memiliki_Mobil  Penghasilan  Beli_Mobil\n",
              "0       1    32       1        0               0          240           1\n",
              "1       2    49       2        1               1          100           0\n",
              "2       3    52       1        0               2          250           1\n",
              "3       4    26       2        1               1          130           0\n",
              "4       5    45       3        0               2          237           1\n",
              "..    ...   ...     ...      ...             ...          ...         ...\n",
              "995   996    51       0        1               2          293           1\n",
              "996   997    61       1        0               2          275           1\n",
              "997   998    45       1        0               0          406           1\n",
              "998   999    48       0        1               2          432           1\n",
              "999  1000    40       3        1               1          380           1\n",
              "\n",
              "[1000 rows x 7 columns]"
            ],
            "text/html": [
              "\n",
              "  <div id=\"df-4dacfde8-1d3c-46c6-967f-87d37c7a3658\" class=\"colab-df-container\">\n",
              "    <div>\n",
              "<style scoped>\n",
              "    .dataframe tbody tr th:only-of-type {\n",
              "        vertical-align: middle;\n",
              "    }\n",
              "\n",
              "    .dataframe tbody tr th {\n",
              "        vertical-align: top;\n",
              "    }\n",
              "\n",
              "    .dataframe thead th {\n",
              "        text-align: right;\n",
              "    }\n",
              "</style>\n",
              "<table border=\"1\" class=\"dataframe\">\n",
              "  <thead>\n",
              "    <tr style=\"text-align: right;\">\n",
              "      <th></th>\n",
              "      <th>ID</th>\n",
              "      <th>Usia</th>\n",
              "      <th>Status</th>\n",
              "      <th>Kelamin</th>\n",
              "      <th>Memiliki_Mobil</th>\n",
              "      <th>Penghasilan</th>\n",
              "      <th>Beli_Mobil</th>\n",
              "    </tr>\n",
              "  </thead>\n",
              "  <tbody>\n",
              "    <tr>\n",
              "      <th>0</th>\n",
              "      <td>1</td>\n",
              "      <td>32</td>\n",
              "      <td>1</td>\n",
              "      <td>0</td>\n",
              "      <td>0</td>\n",
              "      <td>240</td>\n",
              "      <td>1</td>\n",
              "    </tr>\n",
              "    <tr>\n",
              "      <th>1</th>\n",
              "      <td>2</td>\n",
              "      <td>49</td>\n",
              "      <td>2</td>\n",
              "      <td>1</td>\n",
              "      <td>1</td>\n",
              "      <td>100</td>\n",
              "      <td>0</td>\n",
              "    </tr>\n",
              "    <tr>\n",
              "      <th>2</th>\n",
              "      <td>3</td>\n",
              "      <td>52</td>\n",
              "      <td>1</td>\n",
              "      <td>0</td>\n",
              "      <td>2</td>\n",
              "      <td>250</td>\n",
              "      <td>1</td>\n",
              "    </tr>\n",
              "    <tr>\n",
              "      <th>3</th>\n",
              "      <td>4</td>\n",
              "      <td>26</td>\n",
              "      <td>2</td>\n",
              "      <td>1</td>\n",
              "      <td>1</td>\n",
              "      <td>130</td>\n",
              "      <td>0</td>\n",
              "    </tr>\n",
              "    <tr>\n",
              "      <th>4</th>\n",
              "      <td>5</td>\n",
              "      <td>45</td>\n",
              "      <td>3</td>\n",
              "      <td>0</td>\n",
              "      <td>2</td>\n",
              "      <td>237</td>\n",
              "      <td>1</td>\n",
              "    </tr>\n",
              "    <tr>\n",
              "      <th>...</th>\n",
              "      <td>...</td>\n",
              "      <td>...</td>\n",
              "      <td>...</td>\n",
              "      <td>...</td>\n",
              "      <td>...</td>\n",
              "      <td>...</td>\n",
              "      <td>...</td>\n",
              "    </tr>\n",
              "    <tr>\n",
              "      <th>995</th>\n",
              "      <td>996</td>\n",
              "      <td>51</td>\n",
              "      <td>0</td>\n",
              "      <td>1</td>\n",
              "      <td>2</td>\n",
              "      <td>293</td>\n",
              "      <td>1</td>\n",
              "    </tr>\n",
              "    <tr>\n",
              "      <th>996</th>\n",
              "      <td>997</td>\n",
              "      <td>61</td>\n",
              "      <td>1</td>\n",
              "      <td>0</td>\n",
              "      <td>2</td>\n",
              "      <td>275</td>\n",
              "      <td>1</td>\n",
              "    </tr>\n",
              "    <tr>\n",
              "      <th>997</th>\n",
              "      <td>998</td>\n",
              "      <td>45</td>\n",
              "      <td>1</td>\n",
              "      <td>0</td>\n",
              "      <td>0</td>\n",
              "      <td>406</td>\n",
              "      <td>1</td>\n",
              "    </tr>\n",
              "    <tr>\n",
              "      <th>998</th>\n",
              "      <td>999</td>\n",
              "      <td>48</td>\n",
              "      <td>0</td>\n",
              "      <td>1</td>\n",
              "      <td>2</td>\n",
              "      <td>432</td>\n",
              "      <td>1</td>\n",
              "    </tr>\n",
              "    <tr>\n",
              "      <th>999</th>\n",
              "      <td>1000</td>\n",
              "      <td>40</td>\n",
              "      <td>3</td>\n",
              "      <td>1</td>\n",
              "      <td>1</td>\n",
              "      <td>380</td>\n",
              "      <td>1</td>\n",
              "    </tr>\n",
              "  </tbody>\n",
              "</table>\n",
              "<p>1000 rows × 7 columns</p>\n",
              "</div>\n",
              "    <div class=\"colab-df-buttons\">\n",
              "\n",
              "  <div class=\"colab-df-container\">\n",
              "    <button class=\"colab-df-convert\" onclick=\"convertToInteractive('df-4dacfde8-1d3c-46c6-967f-87d37c7a3658')\"\n",
              "            title=\"Convert this dataframe to an interactive table.\"\n",
              "            style=\"display:none;\">\n",
              "\n",
              "  <svg xmlns=\"http://www.w3.org/2000/svg\" height=\"24px\" viewBox=\"0 -960 960 960\">\n",
              "    <path d=\"M120-120v-720h720v720H120Zm60-500h600v-160H180v160Zm220 220h160v-160H400v160Zm0 220h160v-160H400v160ZM180-400h160v-160H180v160Zm440 0h160v-160H620v160ZM180-180h160v-160H180v160Zm440 0h160v-160H620v160Z\"/>\n",
              "  </svg>\n",
              "    </button>\n",
              "\n",
              "  <style>\n",
              "    .colab-df-container {\n",
              "      display:flex;\n",
              "      gap: 12px;\n",
              "    }\n",
              "\n",
              "    .colab-df-convert {\n",
              "      background-color: #E8F0FE;\n",
              "      border: none;\n",
              "      border-radius: 50%;\n",
              "      cursor: pointer;\n",
              "      display: none;\n",
              "      fill: #1967D2;\n",
              "      height: 32px;\n",
              "      padding: 0 0 0 0;\n",
              "      width: 32px;\n",
              "    }\n",
              "\n",
              "    .colab-df-convert:hover {\n",
              "      background-color: #E2EBFA;\n",
              "      box-shadow: 0px 1px 2px rgba(60, 64, 67, 0.3), 0px 1px 3px 1px rgba(60, 64, 67, 0.15);\n",
              "      fill: #174EA6;\n",
              "    }\n",
              "\n",
              "    .colab-df-buttons div {\n",
              "      margin-bottom: 4px;\n",
              "    }\n",
              "\n",
              "    [theme=dark] .colab-df-convert {\n",
              "      background-color: #3B4455;\n",
              "      fill: #D2E3FC;\n",
              "    }\n",
              "\n",
              "    [theme=dark] .colab-df-convert:hover {\n",
              "      background-color: #434B5C;\n",
              "      box-shadow: 0px 1px 3px 1px rgba(0, 0, 0, 0.15);\n",
              "      filter: drop-shadow(0px 1px 2px rgba(0, 0, 0, 0.3));\n",
              "      fill: #FFFFFF;\n",
              "    }\n",
              "  </style>\n",
              "\n",
              "    <script>\n",
              "      const buttonEl =\n",
              "        document.querySelector('#df-4dacfde8-1d3c-46c6-967f-87d37c7a3658 button.colab-df-convert');\n",
              "      buttonEl.style.display =\n",
              "        google.colab.kernel.accessAllowed ? 'block' : 'none';\n",
              "\n",
              "      async function convertToInteractive(key) {\n",
              "        const element = document.querySelector('#df-4dacfde8-1d3c-46c6-967f-87d37c7a3658');\n",
              "        const dataTable =\n",
              "          await google.colab.kernel.invokeFunction('convertToInteractive',\n",
              "                                                    [key], {});\n",
              "        if (!dataTable) return;\n",
              "\n",
              "        const docLinkHtml = 'Like what you see? Visit the ' +\n",
              "          '<a target=\"_blank\" href=https://colab.research.google.com/notebooks/data_table.ipynb>data table notebook</a>'\n",
              "          + ' to learn more about interactive tables.';\n",
              "        element.innerHTML = '';\n",
              "        dataTable['output_type'] = 'display_data';\n",
              "        await google.colab.output.renderOutput(dataTable, element);\n",
              "        const docLink = document.createElement('div');\n",
              "        docLink.innerHTML = docLinkHtml;\n",
              "        element.appendChild(docLink);\n",
              "      }\n",
              "    </script>\n",
              "  </div>\n",
              "\n",
              "\n",
              "<div id=\"df-6e04805d-b64f-4731-b271-a73280018dd9\">\n",
              "  <button class=\"colab-df-quickchart\" onclick=\"quickchart('df-6e04805d-b64f-4731-b271-a73280018dd9')\"\n",
              "            title=\"Suggest charts\"\n",
              "            style=\"display:none;\">\n",
              "\n",
              "<svg xmlns=\"http://www.w3.org/2000/svg\" height=\"24px\"viewBox=\"0 0 24 24\"\n",
              "     width=\"24px\">\n",
              "    <g>\n",
              "        <path d=\"M19 3H5c-1.1 0-2 .9-2 2v14c0 1.1.9 2 2 2h14c1.1 0 2-.9 2-2V5c0-1.1-.9-2-2-2zM9 17H7v-7h2v7zm4 0h-2V7h2v10zm4 0h-2v-4h2v4z\"/>\n",
              "    </g>\n",
              "</svg>\n",
              "  </button>\n",
              "\n",
              "<style>\n",
              "  .colab-df-quickchart {\n",
              "      --bg-color: #E8F0FE;\n",
              "      --fill-color: #1967D2;\n",
              "      --hover-bg-color: #E2EBFA;\n",
              "      --hover-fill-color: #174EA6;\n",
              "      --disabled-fill-color: #AAA;\n",
              "      --disabled-bg-color: #DDD;\n",
              "  }\n",
              "\n",
              "  [theme=dark] .colab-df-quickchart {\n",
              "      --bg-color: #3B4455;\n",
              "      --fill-color: #D2E3FC;\n",
              "      --hover-bg-color: #434B5C;\n",
              "      --hover-fill-color: #FFFFFF;\n",
              "      --disabled-bg-color: #3B4455;\n",
              "      --disabled-fill-color: #666;\n",
              "  }\n",
              "\n",
              "  .colab-df-quickchart {\n",
              "    background-color: var(--bg-color);\n",
              "    border: none;\n",
              "    border-radius: 50%;\n",
              "    cursor: pointer;\n",
              "    display: none;\n",
              "    fill: var(--fill-color);\n",
              "    height: 32px;\n",
              "    padding: 0;\n",
              "    width: 32px;\n",
              "  }\n",
              "\n",
              "  .colab-df-quickchart:hover {\n",
              "    background-color: var(--hover-bg-color);\n",
              "    box-shadow: 0 1px 2px rgba(60, 64, 67, 0.3), 0 1px 3px 1px rgba(60, 64, 67, 0.15);\n",
              "    fill: var(--button-hover-fill-color);\n",
              "  }\n",
              "\n",
              "  .colab-df-quickchart-complete:disabled,\n",
              "  .colab-df-quickchart-complete:disabled:hover {\n",
              "    background-color: var(--disabled-bg-color);\n",
              "    fill: var(--disabled-fill-color);\n",
              "    box-shadow: none;\n",
              "  }\n",
              "\n",
              "  .colab-df-spinner {\n",
              "    border: 2px solid var(--fill-color);\n",
              "    border-color: transparent;\n",
              "    border-bottom-color: var(--fill-color);\n",
              "    animation:\n",
              "      spin 1s steps(1) infinite;\n",
              "  }\n",
              "\n",
              "  @keyframes spin {\n",
              "    0% {\n",
              "      border-color: transparent;\n",
              "      border-bottom-color: var(--fill-color);\n",
              "      border-left-color: var(--fill-color);\n",
              "    }\n",
              "    20% {\n",
              "      border-color: transparent;\n",
              "      border-left-color: var(--fill-color);\n",
              "      border-top-color: var(--fill-color);\n",
              "    }\n",
              "    30% {\n",
              "      border-color: transparent;\n",
              "      border-left-color: var(--fill-color);\n",
              "      border-top-color: var(--fill-color);\n",
              "      border-right-color: var(--fill-color);\n",
              "    }\n",
              "    40% {\n",
              "      border-color: transparent;\n",
              "      border-right-color: var(--fill-color);\n",
              "      border-top-color: var(--fill-color);\n",
              "    }\n",
              "    60% {\n",
              "      border-color: transparent;\n",
              "      border-right-color: var(--fill-color);\n",
              "    }\n",
              "    80% {\n",
              "      border-color: transparent;\n",
              "      border-right-color: var(--fill-color);\n",
              "      border-bottom-color: var(--fill-color);\n",
              "    }\n",
              "    90% {\n",
              "      border-color: transparent;\n",
              "      border-bottom-color: var(--fill-color);\n",
              "    }\n",
              "  }\n",
              "</style>\n",
              "\n",
              "  <script>\n",
              "    async function quickchart(key) {\n",
              "      const quickchartButtonEl =\n",
              "        document.querySelector('#' + key + ' button');\n",
              "      quickchartButtonEl.disabled = true;  // To prevent multiple clicks.\n",
              "      quickchartButtonEl.classList.add('colab-df-spinner');\n",
              "      try {\n",
              "        const charts = await google.colab.kernel.invokeFunction(\n",
              "            'suggestCharts', [key], {});\n",
              "      } catch (error) {\n",
              "        console.error('Error during call to suggestCharts:', error);\n",
              "      }\n",
              "      quickchartButtonEl.classList.remove('colab-df-spinner');\n",
              "      quickchartButtonEl.classList.add('colab-df-quickchart-complete');\n",
              "    }\n",
              "    (() => {\n",
              "      let quickchartButtonEl =\n",
              "        document.querySelector('#df-6e04805d-b64f-4731-b271-a73280018dd9 button');\n",
              "      quickchartButtonEl.style.display =\n",
              "        google.colab.kernel.accessAllowed ? 'block' : 'none';\n",
              "    })();\n",
              "  </script>\n",
              "</div>\n",
              "\n",
              "  <div id=\"id_fef29a91-fc9b-4256-b2ee-1587f6aba4da\">\n",
              "    <style>\n",
              "      .colab-df-generate {\n",
              "        background-color: #E8F0FE;\n",
              "        border: none;\n",
              "        border-radius: 50%;\n",
              "        cursor: pointer;\n",
              "        display: none;\n",
              "        fill: #1967D2;\n",
              "        height: 32px;\n",
              "        padding: 0 0 0 0;\n",
              "        width: 32px;\n",
              "      }\n",
              "\n",
              "      .colab-df-generate:hover {\n",
              "        background-color: #E2EBFA;\n",
              "        box-shadow: 0px 1px 2px rgba(60, 64, 67, 0.3), 0px 1px 3px 1px rgba(60, 64, 67, 0.15);\n",
              "        fill: #174EA6;\n",
              "      }\n",
              "\n",
              "      [theme=dark] .colab-df-generate {\n",
              "        background-color: #3B4455;\n",
              "        fill: #D2E3FC;\n",
              "      }\n",
              "\n",
              "      [theme=dark] .colab-df-generate:hover {\n",
              "        background-color: #434B5C;\n",
              "        box-shadow: 0px 1px 3px 1px rgba(0, 0, 0, 0.15);\n",
              "        filter: drop-shadow(0px 1px 2px rgba(0, 0, 0, 0.3));\n",
              "        fill: #FFFFFF;\n",
              "      }\n",
              "    </style>\n",
              "    <button class=\"colab-df-generate\" onclick=\"generateWithVariable('df')\"\n",
              "            title=\"Generate code using this dataframe.\"\n",
              "            style=\"display:none;\">\n",
              "\n",
              "  <svg xmlns=\"http://www.w3.org/2000/svg\" height=\"24px\"viewBox=\"0 0 24 24\"\n",
              "       width=\"24px\">\n",
              "    <path d=\"M7,19H8.4L18.45,9,17,7.55,7,17.6ZM5,21V16.75L18.45,3.32a2,2,0,0,1,2.83,0l1.4,1.43a1.91,1.91,0,0,1,.58,1.4,1.91,1.91,0,0,1-.58,1.4L9.25,21ZM18.45,9,17,7.55Zm-12,3A5.31,5.31,0,0,0,4.9,8.1,5.31,5.31,0,0,0,1,6.5,5.31,5.31,0,0,0,4.9,4.9,5.31,5.31,0,0,0,6.5,1,5.31,5.31,0,0,0,8.1,4.9,5.31,5.31,0,0,0,12,6.5,5.46,5.46,0,0,0,6.5,12Z\"/>\n",
              "  </svg>\n",
              "    </button>\n",
              "    <script>\n",
              "      (() => {\n",
              "      const buttonEl =\n",
              "        document.querySelector('#id_fef29a91-fc9b-4256-b2ee-1587f6aba4da button.colab-df-generate');\n",
              "      buttonEl.style.display =\n",
              "        google.colab.kernel.accessAllowed ? 'block' : 'none';\n",
              "\n",
              "      buttonEl.onclick = () => {\n",
              "        google.colab.notebook.generateWithVariable('df');\n",
              "      }\n",
              "      })();\n",
              "    </script>\n",
              "  </div>\n",
              "\n",
              "    </div>\n",
              "  </div>\n"
            ],
            "application/vnd.google.colaboratory.intrinsic+json": {
              "type": "dataframe",
              "variable_name": "df",
              "summary": "{\n  \"name\": \"df\",\n  \"rows\": 1000,\n  \"fields\": [\n    {\n      \"column\": \"ID\",\n      \"properties\": {\n        \"dtype\": \"number\",\n        \"std\": 288,\n        \"min\": 1,\n        \"max\": 1000,\n        \"num_unique_values\": 1000,\n        \"samples\": [\n          522,\n          738,\n          741\n        ],\n        \"semantic_type\": \"\",\n        \"description\": \"\"\n      }\n    },\n    {\n      \"column\": \"Usia\",\n      \"properties\": {\n        \"dtype\": \"number\",\n        \"std\": 12,\n        \"min\": 24,\n        \"max\": 164,\n        \"num_unique_values\": 44,\n        \"samples\": [\n          164,\n          31,\n          47\n        ],\n        \"semantic_type\": \"\",\n        \"description\": \"\"\n      }\n    },\n    {\n      \"column\": \"Status\",\n      \"properties\": {\n        \"dtype\": \"number\",\n        \"std\": 1,\n        \"min\": 0,\n        \"max\": 3,\n        \"num_unique_values\": 4,\n        \"samples\": [\n          2,\n          0,\n          1\n        ],\n        \"semantic_type\": \"\",\n        \"description\": \"\"\n      }\n    },\n    {\n      \"column\": \"Kelamin\",\n      \"properties\": {\n        \"dtype\": \"number\",\n        \"std\": 0,\n        \"min\": 0,\n        \"max\": 1,\n        \"num_unique_values\": 2,\n        \"samples\": [\n          1,\n          0\n        ],\n        \"semantic_type\": \"\",\n        \"description\": \"\"\n      }\n    },\n    {\n      \"column\": \"Memiliki_Mobil\",\n      \"properties\": {\n        \"dtype\": \"number\",\n        \"std\": 0,\n        \"min\": 0,\n        \"max\": 4,\n        \"num_unique_values\": 5,\n        \"samples\": [\n          1,\n          3\n        ],\n        \"semantic_type\": \"\",\n        \"description\": \"\"\n      }\n    },\n    {\n      \"column\": \"Penghasilan\",\n      \"properties\": {\n        \"dtype\": \"number\",\n        \"std\": 95,\n        \"min\": 95,\n        \"max\": 490,\n        \"num_unique_values\": 314,\n        \"samples\": [\n          308,\n          187\n        ],\n        \"semantic_type\": \"\",\n        \"description\": \"\"\n      }\n    },\n    {\n      \"column\": \"Beli_Mobil\",\n      \"properties\": {\n        \"dtype\": \"number\",\n        \"std\": 0,\n        \"min\": 0,\n        \"max\": 1,\n        \"num_unique_values\": 2,\n        \"samples\": [\n          0,\n          1\n        ],\n        \"semantic_type\": \"\",\n        \"description\": \"\"\n      }\n    }\n  ]\n}"
            }
          },
          "metadata": {},
          "execution_count": 3
        }
      ]
    },
    {
      "cell_type": "markdown",
      "source": [
        "# Bagian 2"
      ],
      "metadata": {
        "id": "0sAjc-UqoFQs"
      }
    },
    {
      "cell_type": "markdown",
      "source": [
        "## 1. Data Cleaning\n",
        "\n",
        "### Melakukan Pemeriksaan Apakah Ada Yang Perlu Di Cleaning?\n",
        "\n",
        "---\n",
        "\n"
      ],
      "metadata": {
        "id": "OmsaGPyRoGuy"
      }
    },
    {
      "cell_type": "code",
      "source": [
        "print(f\"Data yang bernilai null : \\n {df.isnull().sum()}\")\n",
        "print(f\"Data yang duplikat : \\n {df.duplicated().sum()}\")\n",
        "print(f\"Data untuk handling outlier : \\n\")\n",
        "Q1 = df.quantile(0.25)\n",
        "Q3 = df.quantile(0.75)\n",
        "IQR = Q3 - Q1\n",
        "outliers = ((df < (Q1 - 1.5 * IQR)) | (df > (Q3 + 1.5 * IQR))).sum()\n",
        "print(outliers)"
      ],
      "metadata": {
        "colab": {
          "base_uri": "https://localhost:8080/"
        },
        "id": "x_ROapcroJVt",
        "outputId": "d981c737-6d54-464f-f72b-2d9d5cd1c5ae"
      },
      "execution_count": null,
      "outputs": [
        {
          "output_type": "stream",
          "name": "stdout",
          "text": [
            "Data yang bernilai null : \n",
            " ID                0\n",
            "Usia              0\n",
            "Status            0\n",
            "Kelamin           0\n",
            "Memiliki_Mobil    0\n",
            "Penghasilan       0\n",
            "Beli_Mobil        0\n",
            "dtype: int64\n",
            "Data yang duplikat : \n",
            " 0\n",
            "Data untuk handling outlier : \n",
            "\n",
            "ID                0\n",
            "Usia              2\n",
            "Status            0\n",
            "Kelamin           0\n",
            "Memiliki_Mobil    0\n",
            "Penghasilan       0\n",
            "Beli_Mobil        0\n",
            "dtype: int64\n"
          ]
        }
      ]
    },
    {
      "cell_type": "markdown",
      "source": [
        "### Terdapat Data Yang Perlu di Cleaning pada Outlier\n",
        "\n",
        "\n",
        "---\n",
        "\n"
      ],
      "metadata": {
        "id": "XyZYnWv2ut0R"
      }
    },
    {
      "cell_type": "code",
      "source": [
        "Q1 = df['Usia'].quantile(0.25)\n",
        "Q3 = df['Usia'].quantile(0.75)\n",
        "IQR = Q3 - Q1\n",
        "\n",
        "lower_bound = Q1 - 1.5 * IQR\n",
        "upper_bound = Q3 + 1.5 * IQR\n",
        "\n",
        "outliers = df[(df['Usia'] < lower_bound) | (df['Usia'] > upper_bound)]\n",
        "print(outliers)"
      ],
      "metadata": {
        "colab": {
          "base_uri": "https://localhost:8080/"
        },
        "id": "sxHQuzOdu_8p",
        "outputId": "b8b091cb-4668-419e-df03-9943d6117b30"
      },
      "execution_count": null,
      "outputs": [
        {
          "output_type": "stream",
          "name": "stdout",
          "text": [
            "      ID  Usia  Status  Kelamin  Memiliki_Mobil  Penghasilan  Beli_Mobil\n",
            "200  201   164       0        0               0          100           0\n",
            "227  228   131       2        1               0          100           0\n"
          ]
        }
      ]
    },
    {
      "cell_type": "markdown",
      "source": [
        "### Melakukan Cleaning\n",
        "\n",
        "---\n",
        "\n"
      ],
      "metadata": {
        "id": "ugLWagPPvNT9"
      }
    },
    {
      "cell_type": "code",
      "source": [
        "Q1 = df['Usia'].quantile(0.25)\n",
        "Q3 = df['Usia'].quantile(0.75)\n",
        "IQR = Q3 - Q1\n",
        "\n",
        "lower_bound = Q1 - 1.5 * IQR\n",
        "upper_bound = Q3 + 1.5 * IQR\n",
        "\n",
        "cleaned_df = df[(df['Usia'] >= lower_bound) & (df['Usia'] <= upper_bound)]"
      ],
      "metadata": {
        "id": "G_IAfa31vPPd"
      },
      "execution_count": null,
      "outputs": []
    },
    {
      "cell_type": "markdown",
      "source": [
        "### Cek Data Setelah di Cleaning\n",
        "\n",
        "---\n",
        "\n"
      ],
      "metadata": {
        "id": "dnbMQdiBvRon"
      }
    },
    {
      "cell_type": "code",
      "source": [
        "df = cleaned_df\n",
        "print(f\"Data setelah cleaning outlier : \\n\")\n",
        "Q1 = df.quantile(0.25)\n",
        "Q3 = df.quantile(0.75)\n",
        "IQR = Q3 - Q1\n",
        "outliers = ((df < (Q1 - 1.5 * IQR)) | (df > (Q3 + 1.5 * IQR))).sum()\n",
        "print(outliers)"
      ],
      "metadata": {
        "colab": {
          "base_uri": "https://localhost:8080/"
        },
        "id": "oMxIMd2NvUwP",
        "outputId": "17bbf699-23fa-41a3-e02b-d538cf358ad7"
      },
      "execution_count": null,
      "outputs": [
        {
          "output_type": "stream",
          "name": "stdout",
          "text": [
            "Data setelah cleaning outlier : \n",
            "\n",
            "ID                0\n",
            "Usia              0\n",
            "Status            0\n",
            "Kelamin           0\n",
            "Memiliki_Mobil    0\n",
            "Penghasilan       0\n",
            "Beli_Mobil        0\n",
            "dtype: int64\n"
          ]
        }
      ]
    },
    {
      "cell_type": "markdown",
      "source": [
        "## 2. Normalisasi / Standarisasi Kolom Numerik"
      ],
      "metadata": {
        "id": "E-NyZd72wjHS"
      }
    },
    {
      "cell_type": "markdown",
      "source": [
        "### Menampilkan Data setelah di Standarisasi atau Normalisasi\n",
        "\n",
        "---\n",
        "\n"
      ],
      "metadata": {
        "id": "xDGI4W-nxDvG"
      }
    },
    {
      "cell_type": "code",
      "source": [
        "kolom = 'Usia'\n",
        "\n",
        "# Standardization\n",
        "scaler = StandardScaler()\n",
        "df_standardized = df.copy()\n",
        "df_standardized[kolom] = scaler.fit_transform(df[[kolom]])\n",
        "\n",
        "# Normalization\n",
        "scaler = MinMaxScaler()\n",
        "df_normalized = df.copy()\n",
        "df_normalized[kolom] = scaler.fit_transform(df[[kolom]])\n",
        "\n",
        "# Display\n",
        "plt.figure(figsize=(12, 6))\n",
        "plt.subplot(1, 3, 1)\n",
        "plt.hist(df[kolom], bins=30, color='c')\n",
        "plt.title('Original Data')\n",
        "plt.subplot(1, 3, 2)\n",
        "plt.hist(df_standardized[kolom], bins=30, color='c')\n",
        "plt.title('Standardized Data')\n",
        "plt.subplot(1, 3, 3)\n",
        "plt.hist(df_normalized[kolom], bins=30, color='c')\n",
        "plt.title('Normalized Data')\n",
        "plt.tight_layout()\n",
        "plt.show()"
      ],
      "metadata": {
        "colab": {
          "base_uri": "https://localhost:8080/",
          "height": 569
        },
        "id": "VYB0Poahyhjq",
        "outputId": "25b46fb0-6c60-4bc0-82e4-b0c1caf5a783"
      },
      "execution_count": null,
      "outputs": [
        {
          "output_type": "display_data",
          "data": {
            "text/plain": [
              "<Figure size 1200x600 with 3 Axes>"
            ],
            "image/png": "[encoded data removed]"
          },
          "metadata": {}
        }
      ]
    },
    {
      "cell_type": "markdown",
      "source": [
        "## 3. Encoding Kategorikal"
      ],
      "metadata": {
        "id": "LBld9WHAzDLy"
      }
    },
    {
      "cell_type": "markdown",
      "source": [
        "### Melakukan Encoding"
      ],
      "metadata": {
        "id": "rW2rIHW4zH7L"
      }
    },
    {
      "cell_type": "code",
      "source": [
        "encoder = LabelEncoder()\n",
        "df[['Status', 'Kelamin', 'Memiliki_Mobil', 'Beli_Mobil']] = df[['Status', 'Kelamin', 'Memiliki_Mobil', 'Beli_Mobil']].apply(encoder.fit_transform)"
      ],
      "metadata": {
        "id": "pycRR0cnzoRb",
        "colab": {
          "base_uri": "https://localhost:8080/"
        },
        "outputId": "99453d83-6ebc-4e67-b931-239a34c3df33"
      },
      "execution_count": null,
      "outputs": [
        {
          "output_type": "stream",
          "name": "stderr",
          "text": [
            "<ipython-input-27-52ba0fa6fbe0>:2: SettingWithCopyWarning: \n",
            "A value is trying to be set on a copy of a slice from a DataFrame.\n",
            "Try using .loc[row_indexer,col_indexer] = value instead\n",
            "\n",
            "See the caveats in the documentation: https://pandas.pydata.org/pandas-docs/stable/user_guide/indexing.html#returning-a-view-versus-a-copy\n",
            "  df[['Status', 'Kelamin', 'Memiliki_Mobil', 'Beli_Mobil']] = df[['Status', 'Kelamin', 'Memiliki_Mobil', 'Beli_Mobil']].apply(encoder.fit_transform)\n"
          ]
        }
      ]
    },
    {
      "cell_type": "markdown",
      "source": [
        "### Menampilkan Data Setelah Encoding"
      ],
      "metadata": {
        "id": "9HDnHKKazpml"
      }
    },
    {
      "cell_type": "code",
      "source": [
        "\n",
        "print(df)\n"
      ],
      "metadata": {
        "colab": {
          "base_uri": "https://localhost:8080/"
        },
        "id": "BE3bmWK_0CW6",
        "outputId": "3a36504f-d268-48f7-c3d3-0792023818b6"
      },
      "execution_count": null,
      "outputs": [
        {
          "output_type": "stream",
          "name": "stdout",
          "text": [
            "       ID      Usia  Status  Kelamin  Memiliki_Mobil  Penghasilan  Beli_Mobil\n",
            "0       1 -0.962221       1        0               0    -0.320395           1\n",
            "1       2  0.482345       2        1               1    -1.794402           0\n",
            "2       3  0.737269       1        0               2    -0.215109           1\n",
            "3       4 -1.472068       2        1               1    -1.478544           0\n",
            "4       5  0.142447       3        0               2    -0.351981           1\n",
            "..    ...       ...     ...      ...             ...          ...         ...\n",
            "995   996  0.652294       0        1               2     0.237622           1\n",
            "996   997  1.502039       1        0               2     0.048107           1\n",
            "997   998  0.142447       1        0               0     1.427356           1\n",
            "998   999  0.397371       0        1               2     1.701101           1\n",
            "999  1000 -0.282425       3        1               1     1.153612           1\n",
            "\n",
            "[998 rows x 7 columns]\n"
          ]
        }
      ]
    },
    {
      "cell_type": "markdown",
      "source": [
        "## 4. Feature Engineering"
      ],
      "metadata": {
        "id": "jG8iAonR0NvY"
      }
    },
    {
      "cell_type": "markdown",
      "source": [
        "### Membuat Kolom Baru"
      ],
      "metadata": {
        "id": "ZjcE59SK0T9e"
      }
    },
    {
      "cell_type": "code",
      "source": [
        "df['Income_Age_Ratio'] = df['Penghasilan'] / df['Usia']"
      ],
      "metadata": {
        "colab": {
          "base_uri": "https://localhost:8080/"
        },
        "id": "0CPev95L0V3m",
        "outputId": "bebdbb7d-f9f7-44eb-e881-dea50f03197c"
      },
      "execution_count": null,
      "outputs": [
        {
          "output_type": "stream",
          "name": "stderr",
          "text": [
            "<ipython-input-29-18fe867f2e7a>:1: SettingWithCopyWarning: \n",
            "A value is trying to be set on a copy of a slice from a DataFrame.\n",
            "Try using .loc[row_indexer,col_indexer] = value instead\n",
            "\n",
            "See the caveats in the documentation: https://pandas.pydata.org/pandas-docs/stable/user_guide/indexing.html#returning-a-view-versus-a-copy\n",
            "  df['Income_Age_Ratio'] = df['Penghasilan'] / df['Usia']\n"
          ]
        }
      ]
    },
    {
      "cell_type": "markdown",
      "source": [
        "### Melihat Data Setelah Menambah Kolom Baru"
      ],
      "metadata": {
        "id": "o64VwRhr0Z-f"
      }
    },
    {
      "cell_type": "code",
      "source": [
        "print(df)"
      ],
      "metadata": {
        "id": "nvfOA-Ui0c29",
        "colab": {
          "base_uri": "https://localhost:8080/"
        },
        "outputId": "0ad67ad0-386e-4c63-e8e8-08d7e73f53d5"
      },
      "execution_count": null,
      "outputs": [
        {
          "output_type": "stream",
          "name": "stdout",
          "text": [
            "       ID      Usia  Status  Kelamin  Memiliki_Mobil  Penghasilan  Beli_Mobil  \\\n",
            "0       1 -0.962221       1        0               0    -0.320395           1   \n",
            "1       2  0.482345       2        1               1    -1.794402           0   \n",
            "2       3  0.737269       1        0               2    -0.215109           1   \n",
            "3       4 -1.472068       2        1               1    -1.478544           0   \n",
            "4       5  0.142447       3        0               2    -0.351981           1   \n",
            "..    ...       ...     ...      ...             ...          ...         ...   \n",
            "995   996  0.652294       0        1               2     0.237622           1   \n",
            "996   997  1.502039       1        0               2     0.048107           1   \n",
            "997   998  0.142447       1        0               0     1.427356           1   \n",
            "998   999  0.397371       0        1               2     1.701101           1   \n",
            "999  1000 -0.282425       3        1               1     1.153612           1   \n",
            "\n",
            "     Income_Age_Ratio  \n",
            "0            0.332974  \n",
            "1           -3.720163  \n",
            "2           -0.291765  \n",
            "3            1.004399  \n",
            "4           -2.470957  \n",
            "..                ...  \n",
            "995          0.364287  \n",
            "996          0.032028  \n",
            "997         10.020248  \n",
            "998          4.280891  \n",
            "999         -4.084664  \n",
            "\n",
            "[998 rows x 8 columns]\n"
          ]
        }
      ]
    },
    {
      "cell_type": "markdown",
      "source": [
        "## 5. Splitting data ke dalam data training & data testing\n",
        "\n",
        "---\n",
        "\n"
      ],
      "metadata": {
        "id": "zox0Ve490lBk"
      }
    },
    {
      "cell_type": "code",
      "source": [
        "X = df.drop('Beli_Mobil', axis=1)\n",
        "y = df['Beli_Mobil']\n",
        "X_train, X_test, y_train, y_test = train_test_split(X, y, test_size=0.2, random_state=42)\n",
        "\n"
      ],
      "metadata": {
        "id": "79eWbh080n1d"
      },
      "execution_count": null,
      "outputs": []
    },
    {
      "cell_type": "markdown",
      "source": [
        "### Menampilkan Data Training dan Data Testing"
      ],
      "metadata": {
        "id": "39pm-QZ204S5"
      }
    },
    {
      "cell_type": "code",
      "source": [
        "# Menampilkan set pelatihan\n",
        "print(\"X_train:\")\n",
        "print(X_train)\n",
        "print(\"\\ny_train:\")\n",
        "print(y_train)\n",
        "\n",
        "# Menampilkan set pengujian\n",
        "print(\"\\nX_test:\")\n",
        "print(X_test)\n",
        "print(\"\\ny_test:\")\n",
        "print(y_test)\n"
      ],
      "metadata": {
        "colab": {
          "base_uri": "https://localhost:8080/"
        },
        "id": "hGaF4pGs066Y",
        "outputId": "62b10b8b-d6e0-4271-e676-cb91cc14675a"
      },
      "execution_count": null,
      "outputs": [
        {
          "output_type": "stream",
          "name": "stdout",
          "text": [
            "X_train:\n",
            "      ID      Usia  Status  Kelamin  Memiliki_Mobil  Penghasilan  \\\n",
            "745  746 -0.197451       0        0               0     0.342908   \n",
            "288  289 -0.282425       0        0               0     1.301013   \n",
            "165  166 -1.387093       1        0               0    -0.699426   \n",
            "961  962 -1.557042       0        1               0    -1.510129   \n",
            "495  496  1.671988       0        0               2    -1.341672   \n",
            "..   ...       ...     ...      ...             ...          ...   \n",
            "106  107  0.652294       2        0               1    -0.204580   \n",
            "272  273  0.907218       3        0               0     1.532643   \n",
            "862  863 -0.622323       2        0               1     0.511366   \n",
            "437  438  1.671988       0        0               0     0.216565   \n",
            "102  103 -1.047196       1        1               1    -1.110042   \n",
            "\n",
            "     Income_Age_Ratio  \n",
            "745         -1.736677  \n",
            "288         -4.606575  \n",
            "165          0.504238  \n",
            "961          0.969870  \n",
            "495         -0.802441  \n",
            "..                ...  \n",
            "106         -0.313632  \n",
            "272          1.689388  \n",
            "862         -0.821705  \n",
            "437          0.129525  \n",
            "102          1.060014  \n",
            "\n",
            "[798 rows x 7 columns]\n",
            "\n",
            "y_train:\n",
            "745    1\n",
            "288    1\n",
            "165    1\n",
            "961    0\n",
            "495    0\n",
            "      ..\n",
            "106    1\n",
            "272    1\n",
            "862    1\n",
            "437    1\n",
            "102    0\n",
            "Name: Beli_Mobil, Length: 798, dtype: int64\n",
            "\n",
            "X_test:\n",
            "      ID      Usia  Status  Kelamin  Memiliki_Mobil  Penghasilan  \\\n",
            "455  456  0.822243       2        0               1     0.406080   \n",
            "794  795 -0.622323       1        0               2     0.690353   \n",
            "210  211 -0.622323       2        1               1    -0.215109   \n",
            "311  312  1.417064       3        0               2     0.606124   \n",
            "741  742  0.482345       1        1               0     0.458723   \n",
            "..   ...       ...     ...      ...             ...          ...   \n",
            "78    79  0.907218       2        1               3     1.890616   \n",
            "29    30 -0.707298       2        0               0     0.100750   \n",
            "279  280  0.907218       2        1               1     0.921982   \n",
            "263  264 -0.367400       1        1               2     1.048326   \n",
            "425  426  0.737269       0        0               1     1.543171   \n",
            "\n",
            "     Income_Age_Ratio  \n",
            "455          0.493868  \n",
            "794         -1.109316  \n",
            "210          0.345655  \n",
            "311          0.427732  \n",
            "741          0.951027  \n",
            "..                ...  \n",
            "78           2.083972  \n",
            "29          -0.142443  \n",
            "279          1.016275  \n",
            "263         -2.853366  \n",
            "425          2.093092  \n",
            "\n",
            "[200 rows x 7 columns]\n",
            "\n",
            "y_test:\n",
            "455    1\n",
            "794    1\n",
            "210    0\n",
            "311    1\n",
            "741    1\n",
            "      ..\n",
            "78     0\n",
            "29     1\n",
            "279    1\n",
            "263    1\n",
            "425    1\n",
            "Name: Beli_Mobil, Length: 200, dtype: int64\n"
          ]
        }
      ]
    }
  ]
}